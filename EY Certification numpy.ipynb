{
 "cells": [
  {
   "cell_type": "code",
   "execution_count": 3,
   "id": "22cf354c-2cbf-485d-971a-1fd53f03b8cc",
   "metadata": {},
   "outputs": [],
   "source": [
    "import numpy as np"
   ]
  },
  {
   "cell_type": "code",
   "execution_count": 5,
   "id": "a60a5b04-ec50-4a66-aea9-93b38da278d8",
   "metadata": {},
   "outputs": [],
   "source": [
    "arr=np.array([10,20,30,40,])"
   ]
  },
  {
   "cell_type": "code",
   "execution_count": 7,
   "id": "e953b134-c8d9-4e52-878b-d06bcdda73ec",
   "metadata": {},
   "outputs": [
    {
     "name": "stdout",
     "output_type": "stream",
     "text": [
      "25.0\n"
     ]
    }
   ],
   "source": [
    "print(arr.mean())"
   ]
  },
  {
   "cell_type": "code",
   "execution_count": 9,
   "id": "4f7fddb0-3d50-4944-990d-9353b89cc9f4",
   "metadata": {},
   "outputs": [
    {
     "name": "stdout",
     "output_type": "stream",
     "text": [
      "11.180339887498949\n"
     ]
    }
   ],
   "source": [
    "print(arr.std())"
   ]
  },
  {
   "cell_type": "code",
   "execution_count": 11,
   "id": "4a37dbff-2da5-4fac-9bec-552cf1ee83d2",
   "metadata": {},
   "outputs": [
    {
     "name": "stdout",
     "output_type": "stream",
     "text": [
      "40\n"
     ]
    }
   ],
   "source": [
    "print(arr.max())"
   ]
  },
  {
   "cell_type": "code",
   "execution_count": 13,
   "id": "389f98c1-31b2-4e9a-9a63-1500ed94cec6",
   "metadata": {},
   "outputs": [],
   "source": [
    "arr2=np.array([[1,2],[3,4],[5,6]])"
   ]
  },
  {
   "cell_type": "code",
   "execution_count": 15,
   "id": "cadc2b72-1dfa-4882-acca-ee52bb4503b2",
   "metadata": {},
   "outputs": [
    {
     "name": "stdout",
     "output_type": "stream",
     "text": [
      "(3, 2)\n"
     ]
    }
   ],
   "source": [
    "print(arr2.shape)"
   ]
  },
  {
   "cell_type": "code",
   "execution_count": 17,
   "id": "e21a34a0-bd7b-4182-a7b9-cb6748777485",
   "metadata": {},
   "outputs": [],
   "source": [
    "reshaped=arr2.reshape(2,3)"
   ]
  },
  {
   "cell_type": "code",
   "execution_count": 19,
   "id": "f32543f4-38c7-4977-a6e7-c10652541901",
   "metadata": {},
   "outputs": [
    {
     "name": "stdout",
     "output_type": "stream",
     "text": [
      "[[1 2 3]\n",
      " [4 5 6]]\n"
     ]
    }
   ],
   "source": [
    "print(reshaped)"
   ]
  },
  {
   "cell_type": "code",
   "execution_count": 9,
   "id": "e92f233c-26dd-4431-98ab-55ecfe444c62",
   "metadata": {},
   "outputs": [],
   "source": [
    "import pandas as pd"
   ]
  },
  {
   "cell_type": "code",
   "execution_count": 35,
   "id": "5fe52d35-99bb-4d98-aeb9-d6b7ef3e30c0",
   "metadata": {},
   "outputs": [],
   "source": [
    "data=pd.Series([10,12,14,15,18,100])"
   ]
  },
  {
   "cell_type": "code",
   "execution_count": 37,
   "id": "a4707287-41bc-45dc-a280-c32ec7625f77",
   "metadata": {},
   "outputs": [],
   "source": [
    "Q1=data.quantile(0.25)"
   ]
  },
  {
   "cell_type": "code",
   "execution_count": 39,
   "id": "ef284206-4e5e-449f-a0fa-804e242d40cd",
   "metadata": {},
   "outputs": [],
   "source": [
    "Q3=data.quantile(0.75)"
   ]
  },
  {
   "cell_type": "code",
   "execution_count": 41,
   "id": "14fe91e2-9747-4820-ab3b-6d3a76f1a3bb",
   "metadata": {},
   "outputs": [],
   "source": [
    "IQR=Q3-Q1"
   ]
  },
  {
   "cell_type": "code",
   "execution_count": 43,
   "id": "2c7e6607-35d8-466f-85bd-5510b5da667f",
   "metadata": {},
   "outputs": [],
   "source": [
    "outliers=data[(data<(Q1-1.5*IQR))|(data>(Q3+1.5*IQR))]"
   ]
  },
  {
   "cell_type": "code",
   "execution_count": 45,
   "id": "ce66f944-d883-4120-89ad-4f1f90dab522",
   "metadata": {},
   "outputs": [
    {
     "name": "stdout",
     "output_type": "stream",
     "text": [
      "Outliers: 5    100\n",
      "dtype: int64\n"
     ]
    }
   ],
   "source": [
    "print(\"Outliers:\",outliers)"
   ]
  },
  {
   "cell_type": "code",
   "execution_count": 47,
   "id": "181932d0-628e-4ed1-a6b4-66ce7ee0ac5e",
   "metadata": {},
   "outputs": [],
   "source": [
    "import numpy as np"
   ]
  },
  {
   "cell_type": "code",
   "execution_count": 49,
   "id": "97bd6dd5-468e-4579-b507-442b4ec1e461",
   "metadata": {},
   "outputs": [
    {
     "name": "stdout",
     "output_type": "stream",
     "text": [
      "Mean: 30.0\n"
     ]
    }
   ],
   "source": [
    "data=[10,20,30,40,50]\n",
    "mean=np.mean(data)\n",
    "print(\"Mean:\",mean)"
   ]
  },
  {
   "cell_type": "code",
   "execution_count": 51,
   "id": "b67969be-4bba-4c6a-bf28-e62a692d1415",
   "metadata": {},
   "outputs": [
    {
     "name": "stdout",
     "output_type": "stream",
     "text": [
      "Variance: 200.0\n",
      "Standard Deviation: 14.142135623730951\n"
     ]
    }
   ],
   "source": [
    "data=[10,20,30,40,50]\n",
    "var=np.var(data)\n",
    "std=np.std(data)\n",
    "print(\"Variance:\",var)\n",
    "print(\"Standard Deviation:\",std)"
   ]
  },
  {
   "cell_type": "code",
   "execution_count": 59,
   "id": "21b1d49c-7ebe-4b87-bafa-21bee46bf221",
   "metadata": {},
   "outputs": [
    {
     "name": "stdout",
     "output_type": "stream",
     "text": [
      "[1 0 1 0 0]\n"
     ]
    }
   ],
   "source": [
    "from sklearn.preprocessing import LabelEncoder\n",
    "\n",
    "data=['male','female','male','female','female']\n",
    "le=LabelEncoder()\n",
    "encoded=le.fit_transform(data)\n",
    "print(encoded)"
   ]
  },
  {
   "cell_type": "code",
   "execution_count": 61,
   "id": "251894c8-9b62-4b67-827c-e808c72730b1",
   "metadata": {},
   "outputs": [],
   "source": [
    "import numpy as np\n",
    "from scipy import stats"
   ]
  },
  {
   "cell_type": "code",
   "execution_count": 63,
   "id": "72a1219f-9a69-4c88-b18b-3b0eb730298c",
   "metadata": {},
   "outputs": [],
   "source": [
    "sample_heights=[158,162,161,159,160,157,163,160]\n",
    "t_stat,p_value=stats.ttest_1samp(sample_heights,popmean=160)"
   ]
  },
  {
   "cell_type": "code",
   "execution_count": 65,
   "id": "9a75372d-f733-488a-814a-7e931535bacf",
   "metadata": {},
   "outputs": [
    {
     "name": "stdout",
     "output_type": "stream",
     "text": [
      "t-statistic: 0.0\n",
      "p-value: 1.0\n"
     ]
    }
   ],
   "source": [
    "print(\"t-statistic:\",round(t_stat,3))\n",
    "print(\"p-value:\",round(p_value,3))"
   ]
  },
  {
   "cell_type": "code",
   "execution_count": 69,
   "id": "232016f4-83e9-49e4-ba02-3fb77fb5bc26",
   "metadata": {},
   "outputs": [
    {
     "name": "stdout",
     "output_type": "stream",
     "text": [
      "Fail to Reject Null Hypothesis(No significant difference)\n"
     ]
    }
   ],
   "source": [
    "if p_value<0.05:\n",
    "    print(\"Reject Null Hypothesis(There is a significant difference)\")\n",
    "else:\n",
    "    print(\"Fail to Reject Null Hypothesis(No significant difference)\")"
   ]
  },
  {
   "cell_type": "code",
   "execution_count": 1,
   "id": "5c6d6493-451c-4a47-95fa-d6a1adf20e53",
   "metadata": {},
   "outputs": [],
   "source": [
    "from sklearn.preprocessing import MinMaxScaler"
   ]
  },
  {
   "cell_type": "code",
   "execution_count": 5,
   "id": "a7763357-bd79-48e1-875e-b48ec195276a",
   "metadata": {},
   "outputs": [],
   "source": [
    "data=[[10],[20],[30],[40],[50]]\n",
    "scaler=MinMaxScaler()\n",
    "scaled=scaler.fit_transform(data)"
   ]
  },
  {
   "cell_type": "code",
   "execution_count": 15,
   "id": "f547237e-7c6f-4a22-8eb9-cd2a4267fac5",
   "metadata": {},
   "outputs": [
    {
     "name": "stdout",
     "output_type": "stream",
     "text": [
      "[[0.  ]\n",
      " [0.25]\n",
      " [0.5 ]\n",
      " [0.75]\n",
      " [1.  ]]\n"
     ]
    }
   ],
   "source": [
    "print(scaled)"
   ]
  },
  {
   "cell_type": "code",
   "execution_count": 19,
   "id": "e16c47b8-fd0f-4d54-a256-597ed26c2996",
   "metadata": {},
   "outputs": [],
   "source": [
    "from sklearn.preprocessing import StandardScaler"
   ]
  },
  {
   "cell_type": "code",
   "execution_count": 21,
   "id": "c091297d-df09-4bc3-8724-654ce72bc828",
   "metadata": {},
   "outputs": [],
   "source": [
    "scaler= StandardScaler()\n",
    "scaled= scaler.fit_transform(data)"
   ]
  },
  {
   "cell_type": "code",
   "execution_count": 23,
   "id": "fe4f7543-dc1e-4fd8-9a0b-9a9678848f21",
   "metadata": {},
   "outputs": [
    {
     "name": "stdout",
     "output_type": "stream",
     "text": [
      "[[-1.41421356]\n",
      " [-0.70710678]\n",
      " [ 0.        ]\n",
      " [ 0.70710678]\n",
      " [ 1.41421356]]\n"
     ]
    }
   ],
   "source": [
    "print(scaled)"
   ]
  },
  {
   "cell_type": "code",
   "execution_count": 27,
   "id": "7fbf19bb-289e-4e3c-b610-08a46a73bb36",
   "metadata": {},
   "outputs": [],
   "source": [
    "from sklearn.model_selection import train_test_split"
   ]
  },
  {
   "cell_type": "code",
   "execution_count": 29,
   "id": "d0532e37-d629-4cf1-b5e1-6b47e1f00633",
   "metadata": {},
   "outputs": [],
   "source": [
    "x=[[1],[2],[3],[4],[5],[6]]\n",
    "y=[10,20,30,40,50,60]"
   ]
  },
  {
   "cell_type": "code",
   "execution_count": 31,
   "id": "90728f97-4b57-4837-a055-ce7750ed48c5",
   "metadata": {},
   "outputs": [],
   "source": [
    "x_train,x_test,y_train,y_test=train_test_split(x,y,test_size=0.2)"
   ]
  },
  {
   "cell_type": "code",
   "execution_count": 37,
   "id": "85b04965-14d3-4500-a936-48b982c58848",
   "metadata": {},
   "outputs": [
    {
     "name": "stdout",
     "output_type": "stream",
     "text": [
      "Train: [[1], [4], [3], [2]]\n",
      "Test:  [[6], [5]]\n"
     ]
    }
   ],
   "source": [
    "print(\"Train:\",x_train)\n",
    "print(\"Test: \",x_test)     "
   ]
  },
  {
   "cell_type": "code",
   "execution_count": 57,
   "id": "bcf66a74-6c2c-4333-a95e-89d0e9d7bf85",
   "metadata": {},
   "outputs": [
    {
     "name": "stdout",
     "output_type": "stream",
     "text": [
      "Requirement already satisfied: matplotlib in c:\\users\\ishik\\anaconda3\\lib\\site-packages (3.9.2)\n",
      "Requirement already satisfied: contourpy>=1.0.1 in c:\\users\\ishik\\anaconda3\\lib\\site-packages (from matplotlib) (1.2.0)\n",
      "Requirement already satisfied: cycler>=0.10 in c:\\users\\ishik\\anaconda3\\lib\\site-packages (from matplotlib) (0.11.0)\n",
      "Requirement already satisfied: fonttools>=4.22.0 in c:\\users\\ishik\\anaconda3\\lib\\site-packages (from matplotlib) (4.51.0)\n",
      "Requirement already satisfied: kiwisolver>=1.3.1 in c:\\users\\ishik\\anaconda3\\lib\\site-packages (from matplotlib) (1.4.4)\n",
      "Requirement already satisfied: numpy>=1.23 in c:\\users\\ishik\\anaconda3\\lib\\site-packages (from matplotlib) (1.26.4)\n",
      "Requirement already satisfied: packaging>=20.0 in c:\\users\\ishik\\anaconda3\\lib\\site-packages (from matplotlib) (24.1)\n",
      "Requirement already satisfied: pillow>=8 in c:\\users\\ishik\\anaconda3\\lib\\site-packages (from matplotlib) (10.4.0)\n",
      "Requirement already satisfied: pyparsing>=2.3.1 in c:\\users\\ishik\\anaconda3\\lib\\site-packages (from matplotlib) (3.1.2)\n",
      "Requirement already satisfied: python-dateutil>=2.7 in c:\\users\\ishik\\anaconda3\\lib\\site-packages (from matplotlib) (2.9.0.post0)\n",
      "Requirement already satisfied: six>=1.5 in c:\\users\\ishik\\anaconda3\\lib\\site-packages (from python-dateutil>=2.7->matplotlib) (1.16.0)\n",
      "Note: you may need to restart the kernel to use updated packages.\n"
     ]
    }
   ],
   "source": [
    "pip install matplotlib"
   ]
  },
  {
   "cell_type": "code",
   "execution_count": 61,
   "id": "722f4d41-76cf-4fc2-91fe-84db5a2aeb34",
   "metadata": {},
   "outputs": [],
   "source": [
    "import matplotlib.pyplot as plt"
   ]
  },
  {
   "cell_type": "code",
   "execution_count": 63,
   "id": "78f8cbcf-96bc-4d40-b21d-e646448869ab",
   "metadata": {},
   "outputs": [],
   "source": [
    "x=[1,2,3,4,5]\n",
    "y=[10,20,25,30,40]"
   ]
  },
  {
   "cell_type": "code",
   "execution_count": 69,
   "id": "12d27b12-4220-443a-8f85-7338dc2dc17f",
   "metadata": {},
   "outputs": [
    {
     "data": {
      "image/png": "[encoded data removed]",
      "text/plain": [
       "<Figure size 640x480 with 1 Axes>"
      ]
     },
     "metadata": {},
     "output_type": "display_data"
    }
   ],
   "source": [
    "plt.plot(x,y)\n",
    "plt.title(\"LineChart Example\")\n",
    "plt.show()"
   ]
  },
  {
   "cell_type": "code",
   "execution_count": null,
   "id": "6bacf1ae-771c-46cf-9484-1dc2e137a2f6",
   "metadata": {},
   "outputs": [],
   "source": []
  }
 ],
 "metadata": {
  "kernelspec": {
   "display_name": "Python [conda env:base] *",
   "language": "python",
   "name": "conda-base-py"
  },
  "language_info": {
   "codemirror_mode": {
    "name": "ipython",
    "version": 3
   },
   "file_extension": ".py",
   "mimetype": "text/x-python",
   "name": "python",
   "nbconvert_exporter": "python",
   "pygments_lexer": "ipython3",
   "version": "3.12.7"
  }
 },
 "nbformat": 4,
 "nbformat_minor": 5
}
